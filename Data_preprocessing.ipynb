{
  "nbformat": 4,
  "nbformat_minor": 0,
  "metadata": {
    "colab": {
      "provenance": []
    },
    "kernelspec": {
      "name": "python3",
      "display_name": "Python 3"
    },
    "language_info": {
      "name": "python"
    }
  },
  "cells": [
    {
      "cell_type": "markdown",
      "source": [
        "# Data preprocessing"
      ],
      "metadata": {
        "id": "uUkPpE699LBW"
      }
    },
    {
      "cell_type": "markdown",
      "source": [
        "This program module is designed for preprocessing textual reviews to prepare data for further analysis, including thematic classification and sentiment analysis. The main processing stages include text cleaning, stop-word removal, and lemmatization, which help standardize the text and improve the quality of subsequent processing using natural language processing (NLP) methods."
      ],
      "metadata": {
        "id": "PTHQbLRK9Q9a"
      }
    },
    {
      "cell_type": "markdown",
      "source": [
        "## Getting the code ready to work"
      ],
      "metadata": {
        "id": "DnLp04FV9bEc"
      }
    },
    {
      "cell_type": "code",
      "source": [
        "!pip install emoji\n",
        "!pip install language-tool-python\n",
        "!pip install nltk pymorphy3 language-tool-python beautifulsoup4"
      ],
      "metadata": {
        "colab": {
          "base_uri": "https://localhost:8080/"
        },
        "id": "GOIs5Xgli2WN",
        "outputId": "dc1a58ee-4ae2-4514-cc2b-f69b5997aa6a"
      },
      "execution_count": 1,
      "outputs": [
        {
          "output_type": "stream",
          "name": "stdout",
          "text": [
            "Collecting emoji\n",
            "  Downloading emoji-2.14.1-py3-none-any.whl.metadata (5.7 kB)\n",
            "Downloading emoji-2.14.1-py3-none-any.whl (590 kB)\n",
            "\u001b[2K   \u001b[90m━━━━━━━━━━━━━━━━━━━━━━━━━━━━━━━━━━━━━━━━\u001b[0m \u001b[32m590.6/590.6 kB\u001b[0m \u001b[31m6.1 MB/s\u001b[0m eta \u001b[36m0:00:00\u001b[0m\n",
            "\u001b[?25hInstalling collected packages: emoji\n",
            "Successfully installed emoji-2.14.1\n",
            "Collecting language-tool-python\n",
            "  Downloading language_tool_python-2.9.0-py3-none-any.whl.metadata (54 kB)\n",
            "\u001b[2K     \u001b[90m━━━━━━━━━━━━━━━━━━━━━━━━━━━━━━━━━━━━━━━━\u001b[0m \u001b[32m54.5/54.5 kB\u001b[0m \u001b[31m2.0 MB/s\u001b[0m eta \u001b[36m0:00:00\u001b[0m\n",
            "\u001b[?25hRequirement already satisfied: requests in /usr/local/lib/python3.11/dist-packages (from language-tool-python) (2.32.3)\n",
            "Requirement already satisfied: tqdm in /usr/local/lib/python3.11/dist-packages (from language-tool-python) (4.67.1)\n",
            "Requirement already satisfied: psutil in /usr/local/lib/python3.11/dist-packages (from language-tool-python) (5.9.5)\n",
            "Requirement already satisfied: toml in /usr/local/lib/python3.11/dist-packages (from language-tool-python) (0.10.2)\n",
            "Requirement already satisfied: charset-normalizer<4,>=2 in /usr/local/lib/python3.11/dist-packages (from requests->language-tool-python) (3.4.1)\n",
            "Requirement already satisfied: idna<4,>=2.5 in /usr/local/lib/python3.11/dist-packages (from requests->language-tool-python) (3.10)\n",
            "Requirement already satisfied: urllib3<3,>=1.21.1 in /usr/local/lib/python3.11/dist-packages (from requests->language-tool-python) (2.3.0)\n",
            "Requirement already satisfied: certifi>=2017.4.17 in /usr/local/lib/python3.11/dist-packages (from requests->language-tool-python) (2025.1.31)\n",
            "Downloading language_tool_python-2.9.0-py3-none-any.whl (49 kB)\n",
            "\u001b[2K   \u001b[90m━━━━━━━━━━━━━━━━━━━━━━━━━━━━━━━━━━━━━━━━\u001b[0m \u001b[32m49.2/49.2 kB\u001b[0m \u001b[31m3.3 MB/s\u001b[0m eta \u001b[36m0:00:00\u001b[0m\n",
            "\u001b[?25hInstalling collected packages: language-tool-python\n",
            "Successfully installed language-tool-python-2.9.0\n",
            "Requirement already satisfied: nltk in /usr/local/lib/python3.11/dist-packages (3.9.1)\n",
            "Collecting pymorphy3\n",
            "  Downloading pymorphy3-2.0.3-py3-none-any.whl.metadata (1.9 kB)\n",
            "Requirement already satisfied: language-tool-python in /usr/local/lib/python3.11/dist-packages (2.9.0)\n",
            "Requirement already satisfied: beautifulsoup4 in /usr/local/lib/python3.11/dist-packages (4.13.3)\n",
            "Requirement already satisfied: click in /usr/local/lib/python3.11/dist-packages (from nltk) (8.1.8)\n",
            "Requirement already satisfied: joblib in /usr/local/lib/python3.11/dist-packages (from nltk) (1.4.2)\n",
            "Requirement already satisfied: regex>=2021.8.3 in /usr/local/lib/python3.11/dist-packages (from nltk) (2024.11.6)\n",
            "Requirement already satisfied: tqdm in /usr/local/lib/python3.11/dist-packages (from nltk) (4.67.1)\n",
            "Collecting dawg2-python>=0.8.0 (from pymorphy3)\n",
            "  Downloading dawg2_python-0.9.0-py3-none-any.whl.metadata (7.5 kB)\n",
            "Collecting pymorphy3-dicts-ru (from pymorphy3)\n",
            "  Downloading pymorphy3_dicts_ru-2.4.417150.4580142-py2.py3-none-any.whl.metadata (2.0 kB)\n",
            "Requirement already satisfied: requests in /usr/local/lib/python3.11/dist-packages (from language-tool-python) (2.32.3)\n",
            "Requirement already satisfied: psutil in /usr/local/lib/python3.11/dist-packages (from language-tool-python) (5.9.5)\n",
            "Requirement already satisfied: toml in /usr/local/lib/python3.11/dist-packages (from language-tool-python) (0.10.2)\n",
            "Requirement already satisfied: soupsieve>1.2 in /usr/local/lib/python3.11/dist-packages (from beautifulsoup4) (2.6)\n",
            "Requirement already satisfied: typing-extensions>=4.0.0 in /usr/local/lib/python3.11/dist-packages (from beautifulsoup4) (4.12.2)\n",
            "Requirement already satisfied: charset-normalizer<4,>=2 in /usr/local/lib/python3.11/dist-packages (from requests->language-tool-python) (3.4.1)\n",
            "Requirement already satisfied: idna<4,>=2.5 in /usr/local/lib/python3.11/dist-packages (from requests->language-tool-python) (3.10)\n",
            "Requirement already satisfied: urllib3<3,>=1.21.1 in /usr/local/lib/python3.11/dist-packages (from requests->language-tool-python) (2.3.0)\n",
            "Requirement already satisfied: certifi>=2017.4.17 in /usr/local/lib/python3.11/dist-packages (from requests->language-tool-python) (2025.1.31)\n",
            "Downloading pymorphy3-2.0.3-py3-none-any.whl (53 kB)\n",
            "\u001b[2K   \u001b[90m━━━━━━━━━━━━━━━━━━━━━━━━━━━━━━━━━━━━━━━━\u001b[0m \u001b[32m53.8/53.8 kB\u001b[0m \u001b[31m1.8 MB/s\u001b[0m eta \u001b[36m0:00:00\u001b[0m\n",
            "\u001b[?25hDownloading dawg2_python-0.9.0-py3-none-any.whl (9.3 kB)\n",
            "Downloading pymorphy3_dicts_ru-2.4.417150.4580142-py2.py3-none-any.whl (8.4 MB)\n",
            "\u001b[2K   \u001b[90m━━━━━━━━━━━━━━━━━━━━━━━━━━━━━━━━━━━━━━━━\u001b[0m \u001b[32m8.4/8.4 MB\u001b[0m \u001b[31m40.8 MB/s\u001b[0m eta \u001b[36m0:00:00\u001b[0m\n",
            "\u001b[?25hInstalling collected packages: pymorphy3-dicts-ru, dawg2-python, pymorphy3\n",
            "Successfully installed dawg2-python-0.9.0 pymorphy3-2.0.3 pymorphy3-dicts-ru-2.4.417150.4580142\n"
          ]
        }
      ]
    },
    {
      "cell_type": "code",
      "source": [
        "import pandas as pd\n",
        "import re\n",
        "from bs4 import BeautifulSoup\n",
        "from nltk.tokenize import word_tokenize\n",
        "from pymorphy3 import MorphAnalyzer\n",
        "from nltk.corpus import stopwords\n",
        "from datetime import datetime, timedelta\n",
        "import nltk\n",
        "from nltk.tokenize import sent_tokenize, word_tokenize\n",
        "from tqdm import tqdm\n",
        "tqdm.pandas()\n",
        "# Initializing tools\n",
        "nltk.download('punkt_tab')\n",
        "nltk.download('stopwords')\n",
        "morph = MorphAnalyzer()\n",
        "russian_stopwords = set(stopwords.words('russian'))\n",
        "\n",
        "# A dictionary of months for date processing\n",
        "MONTHS = {\n",
        "    'января': 1, 'февраля': 2, 'марта': 3, 'апреля': 4,\n",
        "    'мая': 5, 'июня': 6, 'июля': 7, 'августа': 8,\n",
        "    'сентября': 9, 'октября': 10, 'ноября': 11, 'декабря': 12\n",
        "}\n"
      ],
      "metadata": {
        "colab": {
          "base_uri": "https://localhost:8080/"
        },
        "id": "XBjmptKM_to8",
        "outputId": "758c1a22-988d-4209-b338-d8a6d3634d33"
      },
      "execution_count": 2,
      "outputs": [
        {
          "output_type": "stream",
          "name": "stderr",
          "text": [
            "[nltk_data] Downloading package punkt_tab to /root/nltk_data...\n",
            "[nltk_data]   Unzipping tokenizers/punkt_tab.zip.\n",
            "[nltk_data] Downloading package stopwords to /root/nltk_data...\n",
            "[nltk_data]   Unzipping corpora/stopwords.zip.\n"
          ]
        }
      ]
    },
    {
      "cell_type": "markdown",
      "source": [
        "## Preprocessing text"
      ],
      "metadata": {
        "id": "PH2AmSBU-Ibf"
      }
    },
    {
      "cell_type": "code",
      "source": [
        "def preprocess_text(text):\n",
        "    text = re.sub(r'\\.{3,}', '. ', text)\n",
        "    text = re.sub(r'(?<=[а-яА-Яa-zA-Z0-9])([.,!?])', r' \\1', text)\n",
        "    return text\n",
        "\n",
        "\n",
        "def parse_russian_date(date_str):\n",
        "    \"\"\"Date parsing in Russian format with automatic year detection\"\"\"\n",
        "    if pd.isna(date_str) or not isinstance(date_str, str):\n",
        "        return pd.NaT\n",
        "    try:\n",
        "        parts = re.split(r'[\\s,.-]+', date_str.strip())\n",
        "        parts = [p for p in parts if p]\n",
        "        if len(parts) == 3:  # Full date (day, month, year)\n",
        "            day, month, year = parts\n",
        "            year = int(year)\n",
        "        elif len(parts) == 2:  # Only day and month\n",
        "            day, month = parts\n",
        "            current_date = datetime.now()\n",
        "            year = current_date.year\n",
        "            test_date = datetime(year, MONTHS[month.lower()], int(day))\n",
        "            if test_date > current_date:\n",
        "                year -= 1\n",
        "        else:\n",
        "            return pd.NaT\n",
        "        if month.lower() not in MONTHS:\n",
        "            return pd.NaT\n",
        "        return datetime(year, MONTHS[month.lower()], int(day))\n",
        "    except:\n",
        "        return pd.NaT\n",
        "\n",
        "\n",
        "def clean_text_by_sentences(text):\n",
        "    \"\"\"Clearing text with removal of stop words + tokenize\"\"\"\n",
        "    if not isinstance(text, str):\n",
        "        return []\n",
        "    try:\n",
        "        # Применяем предварительную обработку текста\n",
        "        text = preprocess_text(text)\n",
        "\n",
        "        sentences = sent_tokenize(text, language=\"russian\")\n",
        "        cleaned_sentences = []\n",
        "\n",
        "        for sentence in sentences:\n",
        "            sentence = BeautifulSoup(sentence, \"html.parser\").get_text()\n",
        "            sentence = re.sub(r'[^а-яА-ЯёЁa-zA-Z .,!?]', ' ', sentence)\n",
        "            sentence = sentence.lower()\n",
        "            words = word_tokenize(sentence, language=\"russian\")\n",
        "            filtered_words = [word for word in words\n",
        "                              if word not in russian_stopwords\n",
        "                              and len(word) > 2\n",
        "                              and word.isalpha()]\n",
        "            cleaned_sentences.append(' '.join(filtered_words))\n",
        "        return cleaned_sentences\n",
        "    except Exception as e:\n",
        "        print(f\"Error clearing text: {e}\")\n",
        "        return []\n",
        "\n",
        "def lemmatize_cleaned_sentences(sentences):\n",
        "    \"\"\"Lemmatization of cleaned sentences.\"\"\"\n",
        "    if not sentences:\n",
        "        return []\n",
        "    try:\n",
        "        lemmatized_sentences = []\n",
        "        for sentence in sentences:\n",
        "            words = word_tokenize(sentence, language=\"russian\")\n",
        "            lemmas = [morph.parse(word)[0].normal_form for word in words]\n",
        "            lemmatized_sentences.append(' '.join(lemmas))\n",
        "        return lemmatized_sentences\n",
        "    except Exception as e:\n",
        "        print(f\"Lemmatization error: {e}\")\n",
        "        return []\n",
        "\n",
        "\n",
        "def process_reviews(input_file, output_file):\n",
        "    \"\"\"Main processing function\"\"\"\n",
        "    try:\n",
        "        # Reading data\n",
        "        df = pd.read_csv(input_file)\n",
        "        # Date processing\n",
        "        df['date_parsed'] = df['date'].progress_apply(parse_russian_date)\n",
        "\n",
        "        # Filtering by date (last six months)\n",
        "        cutoff_date = datetime.now() - timedelta(days=180)\n",
        "        df = df[df['date_parsed'] >= cutoff_date]\n",
        "\n",
        "        # Text processing\n",
        "        df['text_cleaned'] = df['review'].progress_apply(clean_text_by_sentences)\n",
        "\n",
        "        # Lemmatizing cleaned sentences\n",
        "        df['text_lemmatized'] = df['text_cleaned'].progress_apply(lemmatize_cleaned_sentences)\n",
        "\n",
        "        # Deleting empty reviews\n",
        "        df = df[df['text_cleaned'].str.len() > 0]\n",
        "\n",
        "        # Formatting the result\n",
        "        df['date_formatted'] = df['date_parsed'].dt.strftime('%d.%m.%Y')\n",
        "        result_cols = ['date_formatted', 'rating', 'review', 'text_cleaned', 'text_lemmatized']\n",
        "\n",
        "        # Saving output\n",
        "        df[result_cols].to_csv(output_file, index=False, encoding='utf-8')\n",
        "\n",
        "        # Example data\n",
        "        if len(df) > 0:\n",
        "            print(\"\\nПример данных:\")\n",
        "            print(df[result_cols].head(6).to_markdown(index=False))\n",
        "\n",
        "        return df\n",
        "\n",
        "    except Exception as e:\n",
        "        print(f\"Ошибка обработки: {e}\")\n",
        "        return pd.DataFrame()"
      ],
      "metadata": {
        "id": "TXxlEv1z_k7v"
      },
      "execution_count": 6,
      "outputs": []
    },
    {
      "cell_type": "code",
      "source": [
        "# EXAMPLE\n",
        "if __name__ == \"__main__\":\n",
        "    input_csv = \"hotel_reviews_data.csv\"\n",
        "    output_csv = \"processed_reviews.csv\"\n",
        "    processed_data = process_reviews(input_csv, output_csv)"
      ],
      "metadata": {
        "colab": {
          "base_uri": "https://localhost:8080/"
        },
        "id": "ZXhuwvYIA9iM",
        "outputId": "2827de0f-2057-4c5e-9882-10f7597046a7"
      },
      "execution_count": 7,
      "outputs": [
        {
          "output_type": "stream",
          "name": "stderr",
          "text": [
            "100%|██████████| 18/18 [00:00<00:00, 17602.58it/s]\n",
            "100%|██████████| 12/12 [00:00<00:00, 592.44it/s]\n",
            "100%|██████████| 12/12 [00:00<00:00, 255.46it/s]"
          ]
        },
        {
          "output_type": "stream",
          "name": "stdout",
          "text": [
            "\n",
            "Пример данных:\n",
            "| date_formatted   |   rating | review                                                                                                                                                                                                                                                                                                                                                                                                                                                                                                                                                                                                                                                                                                                                                                                                                                                                                                                     | text_cleaned                                                                                                                                                                                                                                                                                                                                                                                                                                                                                                                                                                                                                                                                                                                                                                                    | text_lemmatized                                                                                                                                                                                                                                                                                                                                                                                                                                                                                                                                                                                                                                                                                                                                                                 |\n",
            "|:-----------------|---------:|:---------------------------------------------------------------------------------------------------------------------------------------------------------------------------------------------------------------------------------------------------------------------------------------------------------------------------------------------------------------------------------------------------------------------------------------------------------------------------------------------------------------------------------------------------------------------------------------------------------------------------------------------------------------------------------------------------------------------------------------------------------------------------------------------------------------------------------------------------------------------------------------------------------------------------|:------------------------------------------------------------------------------------------------------------------------------------------------------------------------------------------------------------------------------------------------------------------------------------------------------------------------------------------------------------------------------------------------------------------------------------------------------------------------------------------------------------------------------------------------------------------------------------------------------------------------------------------------------------------------------------------------------------------------------------------------------------------------------------------------|:--------------------------------------------------------------------------------------------------------------------------------------------------------------------------------------------------------------------------------------------------------------------------------------------------------------------------------------------------------------------------------------------------------------------------------------------------------------------------------------------------------------------------------------------------------------------------------------------------------------------------------------------------------------------------------------------------------------------------------------------------------------------------------|\n",
            "| 25.02.2025       |        2 | В номере воняет канализацией. Но персонал приветливый и вопросы решает.                                                                                                                                                                                                                                                                                                                                                                                                                                                                                                                                                                                                                                                                                                                                                                                                                                                    | ['номере воняет канализацией', 'персонал приветливый вопросы решает']                                                                                                                                                                                                                                                                                                                                                                                                                                                                                                                                                                                                                                                                                                                           | ['номер вонять канализация', 'персонал приветливый вопрос решать']                                                                                                                                                                                                                                                                                                                                                                                                                                                                                                                                                                                                                                                                                                              |\n",
            "| 25.02.2025       |        3 | Все бы хорошо но самое главное в номерах душно нужно продумать вопро о кондиционерах                                                                                                                                                                                                                                                                                                                                                                                                                                                                                                                                                                                                                                                                                                                                                                                                                                       | ['самое главное номерах душно нужно продумать вопро кондиционерах']                                                                                                                                                                                                                                                                                                                                                                                                                                                                                                                                                                                                                                                                                                                             | ['самый главное номер душный нужно продумать вопро кондиционер']                                                                                                                                                                                                                                                                                                                                                                                                                                                                                                                                                                                                                                                                                                                |\n",
            "| 30.09.2024       |        1 | Живу рядом с горным университетом. Руководство горного просто издевается над жителями. Блокирует проходы, делает самовольно платную парковку на территории жк, их про-горная управляющая компания дерёт немалые деньги за обслуживание, но ничего не делает. Ректор горного самый богатый человек спб) не хватит слов передать как мы их ненавидим. Коррумпированный университет                                                                                                                                                                                                                                                                                                                                                                                                                                                                                                                                           | ['живу рядом горным университетом', 'руководство горного просто издевается жителями', 'блокирует проходы делает самовольно платную парковку территории горная управляющая компания дерёт немалые деньги обслуживание делает', 'ректор горного самый богатый человек спб хватит слов передать ненавидим', 'коррумпированный университет']                                                                                                                                                                                                                                                                                                                                                                                                                                                        | ['жить рядом горный университет', 'руководство горный просто издеваться житель', 'блокировать проход делать самовольно платный парковка территория горный управлять компания драть немалый деньга обслуживание делать', 'ректор горный самый богатый человек спб хватить слово передать ненавидеть', 'коррумпировать университет']                                                                                                                                                                                                                                                                                                                                                                                                                                              |\n",
            "| 09.01.2025       |        1 | Лучше не надо. Плохо всё.                                                                                                                                                                                                                                                                                                                                                                                                                                                                                                                                                                                                                                                                                                                                                                                                                                                                                                  | ['', 'плохо всё']                                                                                                                                                                                                                                                                                                                                                                                                                                                                                                                                                                                                                                                                                                                                                                               | ['', 'плохо всё']                                                                                                                                                                                                                                                                                                                                                                                                                                                                                                                                                                                                                                                                                                                                                               |\n",
            "| 09.01.2025       |        4 | Находится в 5-ти минутах ходьбы от метро \"Приморская\"... Через 15 минут вы в центре на Невском проспекте... Удобно... Персонал вежливый, уборка в номере каждый день, чайную группу, полотенца, шампуни и т.д. обновляют каждый день... Есть парковка... Завтрак - шведский стол, голодными не останетесь... Отдыхайте с комфортом...                                                                                                                                                                                                                                                                                                                                                                                                                                                                                                                                                                                      | ['находится минутах ходьбы метро приморская', 'минут центре невском проспекте', 'удобно', 'персонал вежливый уборка номере каждый день чайную группу полотенца шампуни', 'обновляют каждый день', 'парковка', 'завтрак шведский стол голодными останетесь', 'отдыхайте комфортом']                                                                                                                                                                                                                                                                                                                                                                                                                                                                                                              | ['находиться минута ходьба метро приморский', 'минута центр невский проспект', 'удобно', 'персонал вежливый уборка номер каждый день чайный группа полотенце шампунь', 'обновлять каждый день', 'парковка', 'завтрак шведский стол голодный остаться', 'отдыхать комфорт']                                                                                                                                                                                                                                                                                                                                                                                                                                                                                                      |\n",
            "| 23.11.2024       |        4 | Начитавшись много положительных отзывов, решили остановиться в этом отеле. И... очень пожалели. Неудобный подьезд к зданию отеля, многие таксисты не могут найти. Далее скользкие ступеньки, на голову капает, т. к. течёт крыша в некоторых местах. Заходим в холл, на входе не меряют температуру. Первый этаж красивый и есть столики и кресла. На этом красота заканчивается. Ковролин везде потертый, в номере было холодно и неуютно. Спали одетыми под тёплым одеялом. На следующий день принесли обогреватель. Батареи в номере грязные, даже не помыты от предыдущих владельцев. Чашки тоже внутри грязные. Под кроватями не убирают вообще, слой пыли и грязи. Складывается ощущение недомытости всего отеля. Завтрак по типу шведский стол не сильно разнообразен. Девушки на входе как \"церберы\" постоянно заглядывают в рот и смотрят, чтобы лишнего не съели. Никогда больше здесь останавливаться не будем. | ['начитавшись положительных отзывов решили остановиться отеле', '', 'очень пожалели', 'неудобный подьезд зданию отеля многие таксисты могут найти', 'далее скользкие ступеньки голову капает', '', 'течёт крыша некоторых местах', 'заходим холл входе меряют температуру', 'первый этаж красивый столики кресла', 'красота заканчивается', 'ковролин везде потертый номере холодно неуютно', 'спали одетыми тёплым одеялом', 'следующий день принесли обогреватель', 'батареи номере грязные помыты предыдущих владельцев', 'чашки внутри грязные', 'кроватями убирают вообще слой пыли грязи', 'складывается ощущение недомытости отеля', 'завтрак типу шведский стол сильно разнообразен', 'девушки входе церберы постоянно заглядывают рот смотрят лишнего съели', 'останавливаться будем'] | ['начитаться положительный отзыв решить остановиться отель', '', 'очень пожалеть', 'неудобный подьезд здание отель многие таксист мочь найти', 'далее скользкий ступенька голова капать', '', 'течь крыша некоторый место', 'заходить холл вход мерить температура', 'первый этаж красивый столик кресло', 'красота заканчиваться', 'ковролин везде потёртый номер холодно неуютный', 'спасть одетый тёплый одеяло', 'следующий день принести обогреватель', 'батарея номер грязный помыть предыдущий владелец', 'чашка внутри грязный', 'кровать убирать вообще слой пыль грязь', 'складываться ощущение недомытость отель', 'завтрак тип шведский стол сильно разнообразный', 'девушка вход цербер постоянно заглядывать рот смотреть лишний съесть', 'останавливаться быть'] |\n"
          ]
        },
        {
          "output_type": "stream",
          "name": "stderr",
          "text": [
            "\n"
          ]
        }
      ]
    }
  ]
}